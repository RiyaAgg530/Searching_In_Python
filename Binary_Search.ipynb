{
 "cells": [
  {
   "cell_type": "code",
   "execution_count": null,
   "id": "d9dece2d",
   "metadata": {},
   "outputs": [],
   "source": [
    "def binary_search(arr,ele):\n",
    "    start = 0\n",
    "    end = len(arr)-1\n",
    "    while start <= end:\n",
    "        middle = (start + end)//2\n",
    "        if ele == arr[middle]:\n",
    "            return \"Your element found at index :\" middle\n",
    "        elif ele < arr[middle]:\n",
    "            end = middle - 1\n",
    "        else:\n",
    "            start = middle + 1\n",
    "            \n",
    "    return \"Your element is not found in the array\""
   ]
  },
  {
   "cell_type": "code",
   "execution_count": 26,
   "id": "7c583088",
   "metadata": {},
   "outputs": [
    {
     "name": "stdout",
     "output_type": "stream",
     "text": [
      "('Your element found at index :', 3)\n"
     ]
    }
   ],
   "source": [
    "arr = [1,3,4,5,6,7]\n",
    "#array must be sorteds\n",
    "a = binary_search(arr,5)\n",
    "print(a)"
   ]
  },
  {
   "cell_type": "code",
   "execution_count": null,
   "id": "62e83a69",
   "metadata": {},
   "outputs": [],
   "source": []
  }
 ],
 "metadata": {
  "kernelspec": {
   "display_name": "Python 3 (ipykernel)",
   "language": "python",
   "name": "python3"
  },
  "language_info": {
   "codemirror_mode": {
    "name": "ipython",
    "version": 3
   },
   "file_extension": ".py",
   "mimetype": "text/x-python",
   "name": "python",
   "nbconvert_exporter": "python",
   "pygments_lexer": "ipython3",
   "version": "3.11.1"
  }
 },
 "nbformat": 4,
 "nbformat_minor": 5
}
